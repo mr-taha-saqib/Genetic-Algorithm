{
  "nbformat": 4,
  "nbformat_minor": 0,
  "metadata": {
    "colab": {
      "provenance": []
    },
    "kernelspec": {
      "name": "python3",
      "display_name": "Python 3"
    },
    "language_info": {
      "name": "python"
    }
  },
  "cells": [
    {
      "cell_type": "code",
      "execution_count": null,
      "metadata": {
        "colab": {
          "base_uri": "https://localhost:8080/"
        },
        "id": "FzwmoGjdLPA6",
        "outputId": "8efba5ee-69a4-4f38-caf0-77fd05d5dbd6"
      },
      "outputs": [
        {
          "output_type": "stream",
          "name": "stdout",
          "text": [
            "Q . . . . . . . \n",
            ". . . . . Q . . \n",
            ". . . . . . . Q \n",
            ". . Q . . . . . \n",
            ". . . . . . Q . \n",
            ". . . Q . . . . \n",
            ". Q . . . . . . \n",
            ". . . . Q . . . \n",
            "\n",
            "\n",
            "N-Queen Solution: [8, 2, 5, 3, 1, 7, 4, 6]\n"
          ]
        }
      ],
      "source": [
        "import random\n",
        "\n",
        "def generate_board(size): #Initial population\n",
        "    return [random.randint(2, size) for _ in range(size)]\n",
        "\n",
        "def fitness(board): #Fitness function\n",
        "    return sum([board[i] == board[j] or abs(board[i] - board[j]) == j - i for i in range(len(board)) for j in range(i+1, len(board))])\n",
        "\n",
        "def crossover(parent1, parent2):\n",
        "    crossover_point = random.randint(1, len(parent1) - 1)\n",
        "    return parent1[:crossover_point] + parent2[crossover_point:]\n",
        "\n",
        "def mutate(board): #Mutation\n",
        "    index = random.randint(0, len(board) - 1)\n",
        "    board[index] = random.randint(0, len(board) - 1)\n",
        "    return board\n",
        "\n",
        "def tournament_selection(population, tournament_size): #Selection\n",
        "    return [min(random.sample(population, tournament_size), key=lambda x: fitness(x)) for _ in range(2)]\n",
        "\n",
        "def plot_chessboard(board): #8*8 Board\n",
        "    n = len(board)\n",
        "    for row in range(n, 0, -1):\n",
        "        line = \"\"\n",
        "        for col in range(n):\n",
        "            if board[col] == row:\n",
        "                line += \"Q \"\n",
        "            else:\n",
        "                line += \". \"\n",
        "        print(line)\n",
        "    print(\"\\n\")\n",
        "\n",
        "def genetic_algorithm(population_size, board_size, mutation_rate, max_generations, tournament_size): #Genetic Algo\n",
        "    population = [generate_board(board_size) for _ in range(population_size)]\n",
        "    best_fitness = []\n",
        "\n",
        "    for _ in range(max_generations):\n",
        "        population = sorted(population, key=lambda x: fitness(x))\n",
        "        best_fitness.append(fitness(population[0]))\n",
        "        if best_fitness[-1] == 0:\n",
        "            plot_chessboard(population[0])\n",
        "            return population[0], best_fitness\n",
        "\n",
        "        new_population = population[:2]\n",
        "        while len(new_population) < population_size:\n",
        "            parent1, parent2 = tournament_selection(population, tournament_size)\n",
        "            child = crossover(parent1, parent2)\n",
        "            if random.random() < mutation_rate:\n",
        "                child = mutate(child)\n",
        "            new_population.append(child)\n",
        "\n",
        "        population = new_population\n",
        "\n",
        "    return None, best_fitness\n",
        "\n",
        "solution, best_fitness = genetic_algorithm(population_size=100, board_size=8, mutation_rate=0.1, max_generations=1000, tournament_size=5)\n",
        "print(\"N-Queen Solution:\", solution)"
      ]
    }
  ]
}